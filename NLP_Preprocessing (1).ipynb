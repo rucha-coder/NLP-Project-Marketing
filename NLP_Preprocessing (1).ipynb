{
  "nbformat": 4,
  "nbformat_minor": 0,
  "metadata": {
    "colab": {
      "name": "NLP Preprocessing.ipynb",
      "provenance": [],
      "collapsed_sections": []
    },
    "kernelspec": {
      "name": "python3",
      "display_name": "Python 3"
    },
    "language_info": {
      "name": "python"
    }
  },
  "cells": [
    {
      "cell_type": "code",
      "execution_count": 1,
      "metadata": {
        "id": "c0TLDrvaXERK"
      },
      "outputs": [],
      "source": [
        "from sklearn.datasets import fetch_20newsgroups"
      ]
    },
    {
      "cell_type": "code",
      "source": [
        "text_data = fetch_20newsgroups()\n",
        "\n",
        "\n"
      ],
      "metadata": {
        "id": "FllXEZiuYYqP"
      },
      "execution_count": 2,
      "outputs": []
    },
    {
      "cell_type": "code",
      "source": [
        "type(text_data)"
      ],
      "metadata": {
        "colab": {
          "base_uri": "https://localhost:8080/"
        },
        "id": "ok640PHFcDNI",
        "outputId": "fa8e318f-142e-4437-a62d-eef5d261dfa0"
      },
      "execution_count": 3,
      "outputs": [
        {
          "output_type": "execute_result",
          "data": {
            "text/plain": [
              "sklearn.utils.Bunch"
            ]
          },
          "metadata": {},
          "execution_count": 3
        }
      ]
    },
    {
      "cell_type": "code",
      "source": [
        "import numpy as np\n"
      ],
      "metadata": {
        "id": "BuIxrzdvcC8G"
      },
      "execution_count": 4,
      "outputs": []
    },
    {
      "cell_type": "code",
      "source": [
        "raw_text = text_data.data[:4]\n",
        "raw_text"
      ],
      "metadata": {
        "colab": {
          "base_uri": "https://localhost:8080/"
        },
        "id": "42JvrWp4wuh_",
        "outputId": "de03641b-f3d6-4764-d607-f102c6867543"
      },
      "execution_count": 5,
      "outputs": [
        {
          "output_type": "execute_result",
          "data": {
            "text/plain": [
              "[\"From: lerxst@wam.umd.edu (where's my thing)\\nSubject: WHAT car is this!?\\nNntp-Posting-Host: rac3.wam.umd.edu\\nOrganization: University of Maryland, College Park\\nLines: 15\\n\\n I was wondering if anyone out there could enlighten me on this car I saw\\nthe other day. It was a 2-door sports car, looked to be from the late 60s/\\nearly 70s. It was called a Bricklin. The doors were really small. In addition,\\nthe front bumper was separate from the rest of the body. This is \\nall I know. If anyone can tellme a model name, engine specs, years\\nof production, where this car is made, history, or whatever info you\\nhave on this funky looking car, please e-mail.\\n\\nThanks,\\n- IL\\n   ---- brought to you by your neighborhood Lerxst ----\\n\\n\\n\\n\\n\",\n",
              " \"From: guykuo@carson.u.washington.edu (Guy Kuo)\\nSubject: SI Clock Poll - Final Call\\nSummary: Final call for SI clock reports\\nKeywords: SI,acceleration,clock,upgrade\\nArticle-I.D.: shelley.1qvfo9INNc3s\\nOrganization: University of Washington\\nLines: 11\\nNNTP-Posting-Host: carson.u.washington.edu\\n\\nA fair number of brave souls who upgraded their SI clock oscillator have\\nshared their experiences for this poll. Please send a brief message detailing\\nyour experiences with the procedure. Top speed attained, CPU rated speed,\\nadd on cards and adapters, heat sinks, hour of usage per day, floppy disk\\nfunctionality with 800 and 1.4 m floppies are especially requested.\\n\\nI will be summarizing in the next two days, so please add to the network\\nknowledge base if you have done the clock upgrade and haven't answered this\\npoll. Thanks.\\n\\nGuy Kuo <guykuo@u.washington.edu>\\n\",\n",
              " 'From: twillis@ec.ecn.purdue.edu (Thomas E Willis)\\nSubject: PB questions...\\nOrganization: Purdue University Engineering Computer Network\\nDistribution: usa\\nLines: 36\\n\\nwell folks, my mac plus finally gave up the ghost this weekend after\\nstarting life as a 512k way back in 1985.  sooo, i\\'m in the market for a\\nnew machine a bit sooner than i intended to be...\\n\\ni\\'m looking into picking up a powerbook 160 or maybe 180 and have a bunch\\nof questions that (hopefully) somebody can answer:\\n\\n* does anybody know any dirt on when the next round of powerbook\\nintroductions are expected?  i\\'d heard the 185c was supposed to make an\\nappearence \"this summer\" but haven\\'t heard anymore on it - and since i\\ndon\\'t have access to macleak, i was wondering if anybody out there had\\nmore info...\\n\\n* has anybody heard rumors about price drops to the powerbook line like the\\nones the duo\\'s just went through recently?\\n\\n* what\\'s the impression of the display on the 180?  i could probably swing\\na 180 if i got the 80Mb disk rather than the 120, but i don\\'t really have\\na feel for how much \"better\" the display is (yea, it looks great in the\\nstore, but is that all \"wow\" or is it really that good?).  could i solicit\\nsome opinions of people who use the 160 and 180 day-to-day on if its worth\\ntaking the disk size and money hit to get the active display?  (i realize\\nthis is a real subjective question, but i\\'ve only played around with the\\nmachines in a computer store breifly and figured the opinions of somebody\\nwho actually uses the machine daily might prove helpful).\\n\\n* how well does hellcats perform?  ;)\\n\\nthanks a bunch in advance for any info - if you could email, i\\'ll post a\\nsummary (news reading time is at a premium with finals just around the\\ncorner... :( )\\n--\\nTom Willis  \\\\  twillis@ecn.purdue.edu    \\\\    Purdue Electrical Engineering\\n---------------------------------------------------------------------------\\n\"Convictions are more dangerous enemies of truth than lies.\"  - F. W.\\nNietzsche\\n',\n",
              " 'From: jgreen@amber (Joe Green)\\nSubject: Re: Weitek P9000 ?\\nOrganization: Harris Computer Systems Division\\nLines: 14\\nDistribution: world\\nNNTP-Posting-Host: amber.ssd.csd.harris.com\\nX-Newsreader: TIN [version 1.1 PL9]\\n\\nRobert J.C. Kyanko (rob@rjck.UUCP) wrote:\\n> abraxis@iastate.edu writes in article <abraxis.734340159@class1.iastate.edu>:\\n> > Anyone know about the Weitek P9000 graphics chip?\\n> As far as the low-level stuff goes, it looks pretty nice.  It\\'s got this\\n> quadrilateral fill command that requires just the four points.\\n\\nDo you have Weitek\\'s address/phone number?  I\\'d like to get some information\\nabout this chip.\\n\\n--\\nJoe Green\\t\\t\\t\\tHarris Corporation\\njgreen@csd.harris.com\\t\\t\\tComputer Systems Division\\n\"The only thing that really scares me is a person with no sense of humor.\"\\n\\t\\t\\t\\t\\t\\t-- Jonathan Winters\\n']"
            ]
          },
          "metadata": {},
          "execution_count": 5
        }
      ]
    },
    {
      "cell_type": "markdown",
      "source": [
        "# Stage 1 : Convert into a lower text\n"
      ],
      "metadata": {
        "id": "-lLL3lQVyke-"
      }
    },
    {
      "cell_type": "code",
      "source": [
        "clean_text_1 = []\n",
        "def to_lower_case(data):\n",
        "  for words in raw_text:\n",
        "    clean_text_1.append(str.lower(words))"
      ],
      "metadata": {
        "id": "-63sRLdeyrS9"
      },
      "execution_count": 6,
      "outputs": []
    },
    {
      "cell_type": "code",
      "source": [
        "to_lower_case(raw_text)"
      ],
      "metadata": {
        "id": "aEpw7jCp06h4"
      },
      "execution_count": 7,
      "outputs": []
    },
    {
      "cell_type": "code",
      "source": [
        "clean_text_1[:1]"
      ],
      "metadata": {
        "colab": {
          "base_uri": "https://localhost:8080/"
        },
        "id": "2eFlt4cF06lR",
        "outputId": "dc6da679-94c0-445e-bb0e-2d468f66e254"
      },
      "execution_count": 34,
      "outputs": [
        {
          "output_type": "execute_result",
          "data": {
            "text/plain": [
              "[\"from: lerxst@wam.umd.edu (where's my thing)\\nsubject: what car is this!?\\nnntp-posting-host: rac3.wam.umd.edu\\norganization: university of maryland, college park\\nlines: 15\\n\\n i was wondering if anyone out there could enlighten me on this car i saw\\nthe other day. it was a 2-door sports car, looked to be from the late 60s/\\nearly 70s. it was called a bricklin. the doors were really small. in addition,\\nthe front bumper was separate from the rest of the body. this is \\nall i know. if anyone can tellme a model name, engine specs, years\\nof production, where this car is made, history, or whatever info you\\nhave on this funky looking car, please e-mail.\\n\\nthanks,\\n- il\\n   ---- brought to you by your neighborhood lerxst ----\\n\\n\\n\\n\\n\"]"
            ]
          },
          "metadata": {},
          "execution_count": 34
        }
      ]
    },
    {
      "cell_type": "markdown",
      "source": [
        "# Stage 2 : Tokenize\n"
      ],
      "metadata": {
        "id": "fV4D9O166XAf"
      }
    },
    {
      "cell_type": "code",
      "source": [
        "clean_text_2  = []\n",
        "\n",
        "from nltk.tokenize import sent_tokenize, word_tokenize\n",
        "\n",
        "import nltk\n",
        "nltk.download('punkt')"
      ],
      "metadata": {
        "colab": {
          "base_uri": "https://localhost:8080/"
        },
        "id": "gmiAKy9g6cCO",
        "outputId": "1a0bcd4a-f0b7-418e-ca82-de57d9ba5a32"
      },
      "execution_count": 9,
      "outputs": [
        {
          "output_type": "stream",
          "name": "stdout",
          "text": [
            "[nltk_data] Downloading package punkt to /root/nltk_data...\n",
            "[nltk_data]   Unzipping tokenizers/punkt.zip.\n"
          ]
        },
        {
          "output_type": "execute_result",
          "data": {
            "text/plain": [
              "True"
            ]
          },
          "metadata": {},
          "execution_count": 9
        }
      ]
    },
    {
      "cell_type": "code",
      "source": [
        "# Perform Sentence Tokenizer\n",
        "sent_tok = []\n",
        "\n",
        "for sent in clean_text_1:\n",
        "  sent = sent_tokenize(sent)\n",
        "  sent_tok.append(sent)"
      ],
      "metadata": {
        "id": "ZshxOF859Gat"
      },
      "execution_count": 10,
      "outputs": []
    },
    {
      "cell_type": "code",
      "source": [
        "sent_tok[:1]"
      ],
      "metadata": {
        "colab": {
          "base_uri": "https://localhost:8080/"
        },
        "id": "S-BViJztERAP",
        "outputId": "9f5c480c-e965-4419-d4c2-b8914b449dcb"
      },
      "execution_count": 35,
      "outputs": [
        {
          "output_type": "execute_result",
          "data": {
            "text/plain": [
              "[[\"from: lerxst@wam.umd.edu (where's my thing)\\nsubject: what car is this!?\",\n",
              "  'nntp-posting-host: rac3.wam.umd.edu\\norganization: university of maryland, college park\\nlines: 15\\n\\n i was wondering if anyone out there could enlighten me on this car i saw\\nthe other day.',\n",
              "  'it was a 2-door sports car, looked to be from the late 60s/\\nearly 70s.',\n",
              "  'it was called a bricklin.',\n",
              "  'the doors were really small.',\n",
              "  'in addition,\\nthe front bumper was separate from the rest of the body.',\n",
              "  'this is \\nall i know.',\n",
              "  'if anyone can tellme a model name, engine specs, years\\nof production, where this car is made, history, or whatever info you\\nhave on this funky looking car, please e-mail.',\n",
              "  'thanks,\\n- il\\n   ---- brought to you by your neighborhood lerxst ----']]"
            ]
          },
          "metadata": {},
          "execution_count": 35
        }
      ]
    },
    {
      "cell_type": "code",
      "source": [
        "# Perform Word Tokenizer\n",
        "clean_text_2 = [word_tokenize(i) for i in clean_text_1]"
      ],
      "metadata": {
        "id": "SV5aU9e2EnML"
      },
      "execution_count": 12,
      "outputs": []
    },
    {
      "cell_type": "code",
      "source": [
        "clean_text_2[:1]"
      ],
      "metadata": {
        "colab": {
          "base_uri": "https://localhost:8080/"
        },
        "id": "RsV00wGRGfzi",
        "outputId": "d721d4cc-4c73-4c06-a456-23d77e170c7d"
      },
      "execution_count": 36,
      "outputs": [
        {
          "output_type": "execute_result",
          "data": {
            "text/plain": [
              "[['from',\n",
              "  ':',\n",
              "  'lerxst',\n",
              "  '@',\n",
              "  'wam.umd.edu',\n",
              "  '(',\n",
              "  'where',\n",
              "  \"'s\",\n",
              "  'my',\n",
              "  'thing',\n",
              "  ')',\n",
              "  'subject',\n",
              "  ':',\n",
              "  'what',\n",
              "  'car',\n",
              "  'is',\n",
              "  'this',\n",
              "  '!',\n",
              "  '?',\n",
              "  'nntp-posting-host',\n",
              "  ':',\n",
              "  'rac3.wam.umd.edu',\n",
              "  'organization',\n",
              "  ':',\n",
              "  'university',\n",
              "  'of',\n",
              "  'maryland',\n",
              "  ',',\n",
              "  'college',\n",
              "  'park',\n",
              "  'lines',\n",
              "  ':',\n",
              "  '15',\n",
              "  'i',\n",
              "  'was',\n",
              "  'wondering',\n",
              "  'if',\n",
              "  'anyone',\n",
              "  'out',\n",
              "  'there',\n",
              "  'could',\n",
              "  'enlighten',\n",
              "  'me',\n",
              "  'on',\n",
              "  'this',\n",
              "  'car',\n",
              "  'i',\n",
              "  'saw',\n",
              "  'the',\n",
              "  'other',\n",
              "  'day',\n",
              "  '.',\n",
              "  'it',\n",
              "  'was',\n",
              "  'a',\n",
              "  '2-door',\n",
              "  'sports',\n",
              "  'car',\n",
              "  ',',\n",
              "  'looked',\n",
              "  'to',\n",
              "  'be',\n",
              "  'from',\n",
              "  'the',\n",
              "  'late',\n",
              "  '60s/',\n",
              "  'early',\n",
              "  '70s',\n",
              "  '.',\n",
              "  'it',\n",
              "  'was',\n",
              "  'called',\n",
              "  'a',\n",
              "  'bricklin',\n",
              "  '.',\n",
              "  'the',\n",
              "  'doors',\n",
              "  'were',\n",
              "  'really',\n",
              "  'small',\n",
              "  '.',\n",
              "  'in',\n",
              "  'addition',\n",
              "  ',',\n",
              "  'the',\n",
              "  'front',\n",
              "  'bumper',\n",
              "  'was',\n",
              "  'separate',\n",
              "  'from',\n",
              "  'the',\n",
              "  'rest',\n",
              "  'of',\n",
              "  'the',\n",
              "  'body',\n",
              "  '.',\n",
              "  'this',\n",
              "  'is',\n",
              "  'all',\n",
              "  'i',\n",
              "  'know',\n",
              "  '.',\n",
              "  'if',\n",
              "  'anyone',\n",
              "  'can',\n",
              "  'tellme',\n",
              "  'a',\n",
              "  'model',\n",
              "  'name',\n",
              "  ',',\n",
              "  'engine',\n",
              "  'specs',\n",
              "  ',',\n",
              "  'years',\n",
              "  'of',\n",
              "  'production',\n",
              "  ',',\n",
              "  'where',\n",
              "  'this',\n",
              "  'car',\n",
              "  'is',\n",
              "  'made',\n",
              "  ',',\n",
              "  'history',\n",
              "  ',',\n",
              "  'or',\n",
              "  'whatever',\n",
              "  'info',\n",
              "  'you',\n",
              "  'have',\n",
              "  'on',\n",
              "  'this',\n",
              "  'funky',\n",
              "  'looking',\n",
              "  'car',\n",
              "  ',',\n",
              "  'please',\n",
              "  'e-mail',\n",
              "  '.',\n",
              "  'thanks',\n",
              "  ',',\n",
              "  '-',\n",
              "  'il',\n",
              "  '--',\n",
              "  '--',\n",
              "  'brought',\n",
              "  'to',\n",
              "  'you',\n",
              "  'by',\n",
              "  'your',\n",
              "  'neighborhood',\n",
              "  'lerxst',\n",
              "  '--',\n",
              "  '--']]"
            ]
          },
          "metadata": {},
          "execution_count": 36
        }
      ]
    },
    {
      "cell_type": "markdown",
      "source": [
        "# Stage 3 : Remove special characters from clean_text_2"
      ],
      "metadata": {
        "id": "VwjaJq8NUXBD"
      }
    },
    {
      "cell_type": "code",
      "source": [
        "# Remove special characters from clean_text_2\n",
        "import re\n",
        "\n",
        "clean_text_3 = []\n",
        "\n",
        "for words in clean_text_2:\n",
        "  clean = []\n",
        "  for w in words:\n",
        "    res = re.sub(r'[^\\w\\s]','',w)\n",
        "    if res != '':\n",
        "      clean.append(res)\n",
        "\n",
        "  clean_text_3.append(clean)\n",
        "\n",
        "\n"
      ],
      "metadata": {
        "id": "1JeIsElcGi_L"
      },
      "execution_count": 14,
      "outputs": []
    },
    {
      "cell_type": "markdown",
      "source": [
        "# Stage 4 : Remove Stop Words or Repetetive Words\n",
        "\n",
        "```\n",
        "# This is formatted as code\n",
        "```\n",
        "\n"
      ],
      "metadata": {
        "id": "4cd3ZIwWUIkV"
      }
    },
    {
      "cell_type": "code",
      "source": [
        "#Remove Stop Words or Repetetive Words\n",
        "import nltk\n",
        "nltk.download('stopwords')"
      ],
      "metadata": {
        "colab": {
          "base_uri": "https://localhost:8080/"
        },
        "id": "eTbf9ahuTRwH",
        "outputId": "8831848a-6bfc-4534-aaca-da947043f82f"
      },
      "execution_count": 15,
      "outputs": [
        {
          "output_type": "stream",
          "name": "stdout",
          "text": [
            "[nltk_data] Downloading package stopwords to /root/nltk_data...\n",
            "[nltk_data]   Unzipping corpora/stopwords.zip.\n"
          ]
        },
        {
          "output_type": "execute_result",
          "data": {
            "text/plain": [
              "True"
            ]
          },
          "metadata": {},
          "execution_count": 15
        }
      ]
    },
    {
      "cell_type": "code",
      "source": [
        "from nltk.corpus import stopwords\n"
      ],
      "metadata": {
        "id": "0bmNFQpfh0vm"
      },
      "execution_count": 16,
      "outputs": []
    },
    {
      "cell_type": "code",
      "source": [
        "\n",
        "\n",
        "clean_text_4 = []\n",
        "\n",
        "for words in clean_text_3:\n",
        "  w = []\n",
        "  for word in words:\n",
        "    if not word in stopwords.words('english'):\n",
        "      w.append(word)\n",
        "    \n",
        "    clean_text_4.append(w)\n",
        "\n",
        "\n"
      ],
      "metadata": {
        "id": "Xe4IyY0Uh-z9"
      },
      "execution_count": 17,
      "outputs": []
    },
    {
      "cell_type": "code",
      "source": [
        "clean_text_4[:1]"
      ],
      "metadata": {
        "colab": {
          "base_uri": "https://localhost:8080/"
        },
        "id": "JFfxnJt7lssW",
        "outputId": "1a377493-7a9e-486d-af96-5f1288e9eca8"
      },
      "execution_count": 37,
      "outputs": [
        {
          "output_type": "execute_result",
          "data": {
            "text/plain": [
              "[['lerxst',\n",
              "  'wamumdedu',\n",
              "  'thing',\n",
              "  'subject',\n",
              "  'car',\n",
              "  'nntppostinghost',\n",
              "  'rac3wamumdedu',\n",
              "  'organization',\n",
              "  'university',\n",
              "  'maryland',\n",
              "  'college',\n",
              "  'park',\n",
              "  'lines',\n",
              "  '15',\n",
              "  'wondering',\n",
              "  'anyone',\n",
              "  'could',\n",
              "  'enlighten',\n",
              "  'car',\n",
              "  'saw',\n",
              "  'day',\n",
              "  '2door',\n",
              "  'sports',\n",
              "  'car',\n",
              "  'looked',\n",
              "  'late',\n",
              "  '60s',\n",
              "  'early',\n",
              "  '70s',\n",
              "  'called',\n",
              "  'bricklin',\n",
              "  'doors',\n",
              "  'really',\n",
              "  'small',\n",
              "  'addition',\n",
              "  'front',\n",
              "  'bumper',\n",
              "  'separate',\n",
              "  'rest',\n",
              "  'body',\n",
              "  'know',\n",
              "  'anyone',\n",
              "  'tellme',\n",
              "  'model',\n",
              "  'name',\n",
              "  'engine',\n",
              "  'specs',\n",
              "  'years',\n",
              "  'production',\n",
              "  'car',\n",
              "  'made',\n",
              "  'history',\n",
              "  'whatever',\n",
              "  'info',\n",
              "  'funky',\n",
              "  'looking',\n",
              "  'car',\n",
              "  'please',\n",
              "  'email',\n",
              "  'thanks',\n",
              "  'il',\n",
              "  'brought',\n",
              "  'neighborhood',\n",
              "  'lerxst']]"
            ]
          },
          "metadata": {},
          "execution_count": 37
        }
      ]
    },
    {
      "cell_type": "markdown",
      "source": [
        "# Stage 5 : Stemming\n",
        "\n"
      ],
      "metadata": {
        "id": "gTDsdduImqx0"
      }
    },
    {
      "cell_type": "code",
      "source": [
        "from nltk.stem.porter import PorterStemmer"
      ],
      "metadata": {
        "id": "9Hb1esyCmzBV"
      },
      "execution_count": 19,
      "outputs": []
    },
    {
      "cell_type": "code",
      "source": [
        "port = PorterStemmer()"
      ],
      "metadata": {
        "id": "UwnQwXxTnC-y"
      },
      "execution_count": 20,
      "outputs": []
    },
    {
      "cell_type": "code",
      "source": [
        "a = [port.stem(i) for i in [\"reading\",\"washing\",\"wash\",\"Driving\"]]\n",
        "a"
      ],
      "metadata": {
        "id": "LHOcpJIonIrl",
        "colab": {
          "base_uri": "https://localhost:8080/"
        },
        "outputId": "ac092ac4-0320-4ec9-9476-1a378c329c5b"
      },
      "execution_count": 21,
      "outputs": [
        {
          "output_type": "execute_result",
          "data": {
            "text/plain": [
              "['read', 'wash', 'wash', 'drive']"
            ]
          },
          "metadata": {},
          "execution_count": 21
        }
      ]
    },
    {
      "cell_type": "code",
      "source": [
        "clean_text_5 = []\n",
        "for words in clean_text_4:\n",
        "  w = []\n",
        "  for word in words:\n",
        "    w.append(word)\n",
        "\n",
        "  clean_text_5.append(w)"
      ],
      "metadata": {
        "id": "z93xNLKVoAIx"
      },
      "execution_count": 22,
      "outputs": []
    },
    {
      "cell_type": "code",
      "source": [
        "clean_text_5[:1]"
      ],
      "metadata": {
        "colab": {
          "base_uri": "https://localhost:8080/"
        },
        "id": "aUi1oKIhorzI",
        "outputId": "8def5b45-26de-4fa8-866c-1e9404a92ef7"
      },
      "execution_count": 38,
      "outputs": [
        {
          "output_type": "execute_result",
          "data": {
            "text/plain": [
              "[['lerxst',\n",
              "  'wamumdedu',\n",
              "  'thing',\n",
              "  'subject',\n",
              "  'car',\n",
              "  'nntppostinghost',\n",
              "  'rac3wamumdedu',\n",
              "  'organization',\n",
              "  'university',\n",
              "  'maryland',\n",
              "  'college',\n",
              "  'park',\n",
              "  'lines',\n",
              "  '15',\n",
              "  'wondering',\n",
              "  'anyone',\n",
              "  'could',\n",
              "  'enlighten',\n",
              "  'car',\n",
              "  'saw',\n",
              "  'day',\n",
              "  '2door',\n",
              "  'sports',\n",
              "  'car',\n",
              "  'looked',\n",
              "  'late',\n",
              "  '60s',\n",
              "  'early',\n",
              "  '70s',\n",
              "  'called',\n",
              "  'bricklin',\n",
              "  'doors',\n",
              "  'really',\n",
              "  'small',\n",
              "  'addition',\n",
              "  'front',\n",
              "  'bumper',\n",
              "  'separate',\n",
              "  'rest',\n",
              "  'body',\n",
              "  'know',\n",
              "  'anyone',\n",
              "  'tellme',\n",
              "  'model',\n",
              "  'name',\n",
              "  'engine',\n",
              "  'specs',\n",
              "  'years',\n",
              "  'production',\n",
              "  'car',\n",
              "  'made',\n",
              "  'history',\n",
              "  'whatever',\n",
              "  'info',\n",
              "  'funky',\n",
              "  'looking',\n",
              "  'car',\n",
              "  'please',\n",
              "  'email',\n",
              "  'thanks',\n",
              "  'il',\n",
              "  'brought',\n",
              "  'neighborhood',\n",
              "  'lerxst']]"
            ]
          },
          "metadata": {},
          "execution_count": 38
        }
      ]
    },
    {
      "cell_type": "markdown",
      "source": [
        "# Stage 6 : Lemmatization"
      ],
      "metadata": {
        "id": "iN7no_AxpNlw"
      }
    },
    {
      "cell_type": "code",
      "source": [
        "from nltk.stem.wordnet import WordNetLemmatizer\n"
      ],
      "metadata": {
        "id": "OkHUPVRqpeI2"
      },
      "execution_count": 24,
      "outputs": []
    },
    {
      "cell_type": "code",
      "source": [
        "wnet = WordNetLemmatizer()\n"
      ],
      "metadata": {
        "id": "-F68VLgtqMMg"
      },
      "execution_count": 25,
      "outputs": []
    },
    {
      "cell_type": "code",
      "source": [
        "import nltk\n",
        "nltk.download('wordnet')"
      ],
      "metadata": {
        "colab": {
          "base_uri": "https://localhost:8080/"
        },
        "id": "WpTzhNteqZz0",
        "outputId": "cf896b8a-e30d-4f17-b12b-12d96df3b513"
      },
      "execution_count": 26,
      "outputs": [
        {
          "output_type": "stream",
          "name": "stdout",
          "text": [
            "[nltk_data] Downloading package wordnet to /root/nltk_data...\n",
            "[nltk_data]   Unzipping corpora/wordnet.zip.\n"
          ]
        },
        {
          "output_type": "execute_result",
          "data": {
            "text/plain": [
              "True"
            ]
          },
          "metadata": {},
          "execution_count": 26
        }
      ]
    },
    {
      "cell_type": "code",
      "source": [
        "lem = []\n",
        "for words in clean_text_4:\n",
        "  w = []\n",
        "  for word in words:\n",
        "    w.append(wnet.lemmatize(word))\n",
        "\n",
        "  lem.append(w)"
      ],
      "metadata": {
        "id": "kdMQSTZsqomo"
      },
      "execution_count": 27,
      "outputs": []
    },
    {
      "cell_type": "code",
      "source": [
        "lem[:1]"
      ],
      "metadata": {
        "colab": {
          "base_uri": "https://localhost:8080/"
        },
        "id": "fmxQMRWOrkhL",
        "outputId": "01102a6e-2c45-479d-9e1a-a9cbe4c94826"
      },
      "execution_count": 43,
      "outputs": [
        {
          "output_type": "execute_result",
          "data": {
            "text/plain": [
              "[['lerxst',\n",
              "  'wamumdedu',\n",
              "  'thing',\n",
              "  'subject',\n",
              "  'car',\n",
              "  'nntppostinghost',\n",
              "  'rac3wamumdedu',\n",
              "  'organization',\n",
              "  'university',\n",
              "  'maryland',\n",
              "  'college',\n",
              "  'park',\n",
              "  'line',\n",
              "  '15',\n",
              "  'wondering',\n",
              "  'anyone',\n",
              "  'could',\n",
              "  'enlighten',\n",
              "  'car',\n",
              "  'saw',\n",
              "  'day',\n",
              "  '2door',\n",
              "  'sport',\n",
              "  'car',\n",
              "  'looked',\n",
              "  'late',\n",
              "  '60',\n",
              "  'early',\n",
              "  '70',\n",
              "  'called',\n",
              "  'bricklin',\n",
              "  'door',\n",
              "  'really',\n",
              "  'small',\n",
              "  'addition',\n",
              "  'front',\n",
              "  'bumper',\n",
              "  'separate',\n",
              "  'rest',\n",
              "  'body',\n",
              "  'know',\n",
              "  'anyone',\n",
              "  'tellme',\n",
              "  'model',\n",
              "  'name',\n",
              "  'engine',\n",
              "  'spec',\n",
              "  'year',\n",
              "  'production',\n",
              "  'car',\n",
              "  'made',\n",
              "  'history',\n",
              "  'whatever',\n",
              "  'info',\n",
              "  'funky',\n",
              "  'looking',\n",
              "  'car',\n",
              "  'please',\n",
              "  'email',\n",
              "  'thanks',\n",
              "  'il',\n",
              "  'brought',\n",
              "  'neighborhood',\n",
              "  'lerxst']]"
            ]
          },
          "metadata": {},
          "execution_count": 43
        }
      ]
    },
    {
      "cell_type": "code",
      "source": [
        "print(raw_text)"
      ],
      "metadata": {
        "colab": {
          "base_uri": "https://localhost:8080/"
        },
        "id": "b2ObkfFhsLcg",
        "outputId": "62222082-c6f0-4190-8db7-fa7fc3b9cf05"
      },
      "execution_count": 28,
      "outputs": [
        {
          "output_type": "stream",
          "name": "stdout",
          "text": [
            "[\"From: lerxst@wam.umd.edu (where's my thing)\\nSubject: WHAT car is this!?\\nNntp-Posting-Host: rac3.wam.umd.edu\\nOrganization: University of Maryland, College Park\\nLines: 15\\n\\n I was wondering if anyone out there could enlighten me on this car I saw\\nthe other day. It was a 2-door sports car, looked to be from the late 60s/\\nearly 70s. It was called a Bricklin. The doors were really small. In addition,\\nthe front bumper was separate from the rest of the body. This is \\nall I know. If anyone can tellme a model name, engine specs, years\\nof production, where this car is made, history, or whatever info you\\nhave on this funky looking car, please e-mail.\\n\\nThanks,\\n- IL\\n   ---- brought to you by your neighborhood Lerxst ----\\n\\n\\n\\n\\n\", \"From: guykuo@carson.u.washington.edu (Guy Kuo)\\nSubject: SI Clock Poll - Final Call\\nSummary: Final call for SI clock reports\\nKeywords: SI,acceleration,clock,upgrade\\nArticle-I.D.: shelley.1qvfo9INNc3s\\nOrganization: University of Washington\\nLines: 11\\nNNTP-Posting-Host: carson.u.washington.edu\\n\\nA fair number of brave souls who upgraded their SI clock oscillator have\\nshared their experiences for this poll. Please send a brief message detailing\\nyour experiences with the procedure. Top speed attained, CPU rated speed,\\nadd on cards and adapters, heat sinks, hour of usage per day, floppy disk\\nfunctionality with 800 and 1.4 m floppies are especially requested.\\n\\nI will be summarizing in the next two days, so please add to the network\\nknowledge base if you have done the clock upgrade and haven't answered this\\npoll. Thanks.\\n\\nGuy Kuo <guykuo@u.washington.edu>\\n\", 'From: twillis@ec.ecn.purdue.edu (Thomas E Willis)\\nSubject: PB questions...\\nOrganization: Purdue University Engineering Computer Network\\nDistribution: usa\\nLines: 36\\n\\nwell folks, my mac plus finally gave up the ghost this weekend after\\nstarting life as a 512k way back in 1985.  sooo, i\\'m in the market for a\\nnew machine a bit sooner than i intended to be...\\n\\ni\\'m looking into picking up a powerbook 160 or maybe 180 and have a bunch\\nof questions that (hopefully) somebody can answer:\\n\\n* does anybody know any dirt on when the next round of powerbook\\nintroductions are expected?  i\\'d heard the 185c was supposed to make an\\nappearence \"this summer\" but haven\\'t heard anymore on it - and since i\\ndon\\'t have access to macleak, i was wondering if anybody out there had\\nmore info...\\n\\n* has anybody heard rumors about price drops to the powerbook line like the\\nones the duo\\'s just went through recently?\\n\\n* what\\'s the impression of the display on the 180?  i could probably swing\\na 180 if i got the 80Mb disk rather than the 120, but i don\\'t really have\\na feel for how much \"better\" the display is (yea, it looks great in the\\nstore, but is that all \"wow\" or is it really that good?).  could i solicit\\nsome opinions of people who use the 160 and 180 day-to-day on if its worth\\ntaking the disk size and money hit to get the active display?  (i realize\\nthis is a real subjective question, but i\\'ve only played around with the\\nmachines in a computer store breifly and figured the opinions of somebody\\nwho actually uses the machine daily might prove helpful).\\n\\n* how well does hellcats perform?  ;)\\n\\nthanks a bunch in advance for any info - if you could email, i\\'ll post a\\nsummary (news reading time is at a premium with finals just around the\\ncorner... :( )\\n--\\nTom Willis  \\\\  twillis@ecn.purdue.edu    \\\\    Purdue Electrical Engineering\\n---------------------------------------------------------------------------\\n\"Convictions are more dangerous enemies of truth than lies.\"  - F. W.\\nNietzsche\\n', 'From: jgreen@amber (Joe Green)\\nSubject: Re: Weitek P9000 ?\\nOrganization: Harris Computer Systems Division\\nLines: 14\\nDistribution: world\\nNNTP-Posting-Host: amber.ssd.csd.harris.com\\nX-Newsreader: TIN [version 1.1 PL9]\\n\\nRobert J.C. Kyanko (rob@rjck.UUCP) wrote:\\n> abraxis@iastate.edu writes in article <abraxis.734340159@class1.iastate.edu>:\\n> > Anyone know about the Weitek P9000 graphics chip?\\n> As far as the low-level stuff goes, it looks pretty nice.  It\\'s got this\\n> quadrilateral fill command that requires just the four points.\\n\\nDo you have Weitek\\'s address/phone number?  I\\'d like to get some information\\nabout this chip.\\n\\n--\\nJoe Green\\t\\t\\t\\tHarris Corporation\\njgreen@csd.harris.com\\t\\t\\tComputer Systems Division\\n\"The only thing that really scares me is a person with no sense of humor.\"\\n\\t\\t\\t\\t\\t\\t-- Jonathan Winters\\n']\n"
          ]
        }
      ]
    },
    {
      "cell_type": "code",
      "source": [
        "print(clean_text_5[:1])"
      ],
      "metadata": {
        "colab": {
          "base_uri": "https://localhost:8080/"
        },
        "id": "E2vQml5ssOWR",
        "outputId": "931b83e8-e894-48b7-b39a-ca0a3afc47bc"
      },
      "execution_count": 29,
      "outputs": [
        {
          "output_type": "stream",
          "name": "stdout",
          "text": [
            "[['lerxst', 'wamumdedu', 'thing', 'subject', 'car', 'nntppostinghost', 'rac3wamumdedu', 'organization', 'university', 'maryland', 'college', 'park', 'lines', '15', 'wondering', 'anyone', 'could', 'enlighten', 'car', 'saw', 'day', '2door', 'sports', 'car', 'looked', 'late', '60s', 'early', '70s', 'called', 'bricklin', 'doors', 'really', 'small', 'addition', 'front', 'bumper', 'separate', 'rest', 'body', 'know', 'anyone', 'tellme', 'model', 'name', 'engine', 'specs', 'years', 'production', 'car', 'made', 'history', 'whatever', 'info', 'funky', 'looking', 'car', 'please', 'email', 'thanks', 'il', 'brought', 'neighborhood', 'lerxst']]\n"
          ]
        }
      ]
    }
  ]
}